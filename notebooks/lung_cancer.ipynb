{
  "cells": [
    {
      "cell_type": "markdown",
      "metadata": {
        "id": "E5riG5qTUPQw"
      },
      "source": [
        "Dataset :https://www.kaggle.com/datasets/mysarahmadbhat/lung-cancer"
      ]
    },
    {
      "cell_type": "markdown",
      "metadata": {
        "id": "Hxfuc5azUPQy"
      },
      "source": [
        "# Attribute Information\n",
        "**Gender:** M(male), F(female)\n",
        "\n",
        "**Age:** Age of the patient [years]\n",
        "\n",
        "**Smoking:** YES = 1, NO = 0.\n",
        "\n",
        "**YellowFingers:** YES = 1, NO = 0.\n",
        "\n",
        "**Anxiety:** YES = 1, NO = 0.\n",
        "\n",
        "**PeerPressure:** YES = 1, NO = 0.\n",
        "\n",
        "**ChronicDisease:** YES = 1, NO = 0.\n",
        "\n",
        "**Fatigue:** YES = 1, NO = 0.\n",
        "\n",
        "**Allergy:** YES = 1, NO = 0.\n",
        "\n",
        "**Wheezing:** YES = 1, NO = 0.\n",
        "\n",
        "**AlcoholConsuming:** YES = 1, NO = 0.\n",
        "\n",
        "**Coughing:** YES = 1, NO = 0.\n",
        "\n",
        "**BreathShortage:** YES = 1, NO = 0.\n",
        "\n",
        "**SwallowingDifficulty:** YES = 1, NO = 0.\n",
        "\n",
        "**ChestPain:** YES = 1, NO = 0.\n",
        "\n",
        "**LungCancer:** YES = 1, NO = 0."
      ]
    },
    {
      "cell_type": "code",
      "execution_count": 28,
      "metadata": {
        "id": "pSxdTNIGUPQz"
      },
      "outputs": [],
      "source": [
        "import pandas as pd\n",
        "import numpy as np\n",
        "import matplotlib.pyplot as plt\n",
        "import seaborn as sns\n",
        "import warnings\n",
        "warnings.filterwarnings('ignore')"
      ]
    },
    {
      "cell_type": "code",
      "execution_count": 29,
      "metadata": {
        "id": "cJLn0GF0UPQ0",
        "colab": {
          "base_uri": "https://localhost:8080/",
          "height": 270
        },
        "outputId": "5f077404-fb29-47de-d17c-585d2b91085b"
      },
      "outputs": [
        {
          "output_type": "execute_result",
          "data": {
            "text/plain": [
              "  Gender    Age  Smoking  YellowFingers  Anxiety  PeerPressure  \\\n",
              "0      M 69.000    0.000          1.000    1.000         0.000   \n",
              "1      M 74.000    1.000          0.000    0.000         0.000   \n",
              "2      F 59.000    0.000          0.000    0.000         1.000   \n",
              "3      M 63.000    1.000          1.000    1.000         0.000   \n",
              "4      F 63.000    0.000          1.000    0.000         0.000   \n",
              "\n",
              "   ChronicDisease  Fatigue  Allergy  Wheezing  AlcoholConsuming  Coughing  \\\n",
              "0           0.000    1.000    1.000     1.000             1.000     1.000   \n",
              "1           1.000    1.000    1.000     0.000             0.000     0.000   \n",
              "2           0.000    1.000    0.000     1.000             0.000     1.000   \n",
              "3           0.000    0.000    0.000     0.000             1.000     0.000   \n",
              "4           0.000    0.000    0.000     1.000             0.000     1.000   \n",
              "\n",
              "   BreathShortage  SwallowingDifficulty  ChestPain  LungCancer  \n",
              "0           1.000                 1.000      1.000       1.000  \n",
              "1           1.000                 1.000      1.000       1.000  \n",
              "2           1.000                 0.000      1.000       0.000  \n",
              "3           0.000                 1.000      1.000       0.000  \n",
              "4           1.000                 0.000      0.000       0.000  "
            ],
            "text/html": [
              "\n",
              "  <div id=\"df-8d6c981c-a269-414f-8257-3fe14f60b5c9\">\n",
              "    <div class=\"colab-df-container\">\n",
              "      <div>\n",
              "<style scoped>\n",
              "    .dataframe tbody tr th:only-of-type {\n",
              "        vertical-align: middle;\n",
              "    }\n",
              "\n",
              "    .dataframe tbody tr th {\n",
              "        vertical-align: top;\n",
              "    }\n",
              "\n",
              "    .dataframe thead th {\n",
              "        text-align: right;\n",
              "    }\n",
              "</style>\n",
              "<table border=\"1\" class=\"dataframe\">\n",
              "  <thead>\n",
              "    <tr style=\"text-align: right;\">\n",
              "      <th></th>\n",
              "      <th>Gender</th>\n",
              "      <th>Age</th>\n",
              "      <th>Smoking</th>\n",
              "      <th>YellowFingers</th>\n",
              "      <th>Anxiety</th>\n",
              "      <th>PeerPressure</th>\n",
              "      <th>ChronicDisease</th>\n",
              "      <th>Fatigue</th>\n",
              "      <th>Allergy</th>\n",
              "      <th>Wheezing</th>\n",
              "      <th>AlcoholConsuming</th>\n",
              "      <th>Coughing</th>\n",
              "      <th>BreathShortage</th>\n",
              "      <th>SwallowingDifficulty</th>\n",
              "      <th>ChestPain</th>\n",
              "      <th>LungCancer</th>\n",
              "    </tr>\n",
              "  </thead>\n",
              "  <tbody>\n",
              "    <tr>\n",
              "      <th>0</th>\n",
              "      <td>M</td>\n",
              "      <td>69.000</td>\n",
              "      <td>0.000</td>\n",
              "      <td>1.000</td>\n",
              "      <td>1.000</td>\n",
              "      <td>0.000</td>\n",
              "      <td>0.000</td>\n",
              "      <td>1.000</td>\n",
              "      <td>1.000</td>\n",
              "      <td>1.000</td>\n",
              "      <td>1.000</td>\n",
              "      <td>1.000</td>\n",
              "      <td>1.000</td>\n",
              "      <td>1.000</td>\n",
              "      <td>1.000</td>\n",
              "      <td>1.000</td>\n",
              "    </tr>\n",
              "    <tr>\n",
              "      <th>1</th>\n",
              "      <td>M</td>\n",
              "      <td>74.000</td>\n",
              "      <td>1.000</td>\n",
              "      <td>0.000</td>\n",
              "      <td>0.000</td>\n",
              "      <td>0.000</td>\n",
              "      <td>1.000</td>\n",
              "      <td>1.000</td>\n",
              "      <td>1.000</td>\n",
              "      <td>0.000</td>\n",
              "      <td>0.000</td>\n",
              "      <td>0.000</td>\n",
              "      <td>1.000</td>\n",
              "      <td>1.000</td>\n",
              "      <td>1.000</td>\n",
              "      <td>1.000</td>\n",
              "    </tr>\n",
              "    <tr>\n",
              "      <th>2</th>\n",
              "      <td>F</td>\n",
              "      <td>59.000</td>\n",
              "      <td>0.000</td>\n",
              "      <td>0.000</td>\n",
              "      <td>0.000</td>\n",
              "      <td>1.000</td>\n",
              "      <td>0.000</td>\n",
              "      <td>1.000</td>\n",
              "      <td>0.000</td>\n",
              "      <td>1.000</td>\n",
              "      <td>0.000</td>\n",
              "      <td>1.000</td>\n",
              "      <td>1.000</td>\n",
              "      <td>0.000</td>\n",
              "      <td>1.000</td>\n",
              "      <td>0.000</td>\n",
              "    </tr>\n",
              "    <tr>\n",
              "      <th>3</th>\n",
              "      <td>M</td>\n",
              "      <td>63.000</td>\n",
              "      <td>1.000</td>\n",
              "      <td>1.000</td>\n",
              "      <td>1.000</td>\n",
              "      <td>0.000</td>\n",
              "      <td>0.000</td>\n",
              "      <td>0.000</td>\n",
              "      <td>0.000</td>\n",
              "      <td>0.000</td>\n",
              "      <td>1.000</td>\n",
              "      <td>0.000</td>\n",
              "      <td>0.000</td>\n",
              "      <td>1.000</td>\n",
              "      <td>1.000</td>\n",
              "      <td>0.000</td>\n",
              "    </tr>\n",
              "    <tr>\n",
              "      <th>4</th>\n",
              "      <td>F</td>\n",
              "      <td>63.000</td>\n",
              "      <td>0.000</td>\n",
              "      <td>1.000</td>\n",
              "      <td>0.000</td>\n",
              "      <td>0.000</td>\n",
              "      <td>0.000</td>\n",
              "      <td>0.000</td>\n",
              "      <td>0.000</td>\n",
              "      <td>1.000</td>\n",
              "      <td>0.000</td>\n",
              "      <td>1.000</td>\n",
              "      <td>1.000</td>\n",
              "      <td>0.000</td>\n",
              "      <td>0.000</td>\n",
              "      <td>0.000</td>\n",
              "    </tr>\n",
              "  </tbody>\n",
              "</table>\n",
              "</div>\n",
              "      <button class=\"colab-df-convert\" onclick=\"convertToInteractive('df-8d6c981c-a269-414f-8257-3fe14f60b5c9')\"\n",
              "              title=\"Convert this dataframe to an interactive table.\"\n",
              "              style=\"display:none;\">\n",
              "        \n",
              "  <svg xmlns=\"http://www.w3.org/2000/svg\" height=\"24px\"viewBox=\"0 0 24 24\"\n",
              "       width=\"24px\">\n",
              "    <path d=\"M0 0h24v24H0V0z\" fill=\"none\"/>\n",
              "    <path d=\"M18.56 5.44l.94 2.06.94-2.06 2.06-.94-2.06-.94-.94-2.06-.94 2.06-2.06.94zm-11 1L8.5 8.5l.94-2.06 2.06-.94-2.06-.94L8.5 2.5l-.94 2.06-2.06.94zm10 10l.94 2.06.94-2.06 2.06-.94-2.06-.94-.94-2.06-.94 2.06-2.06.94z\"/><path d=\"M17.41 7.96l-1.37-1.37c-.4-.4-.92-.59-1.43-.59-.52 0-1.04.2-1.43.59L10.3 9.45l-7.72 7.72c-.78.78-.78 2.05 0 2.83L4 21.41c.39.39.9.59 1.41.59.51 0 1.02-.2 1.41-.59l7.78-7.78 2.81-2.81c.8-.78.8-2.07 0-2.86zM5.41 20L4 18.59l7.72-7.72 1.47 1.35L5.41 20z\"/>\n",
              "  </svg>\n",
              "      </button>\n",
              "      \n",
              "  <style>\n",
              "    .colab-df-container {\n",
              "      display:flex;\n",
              "      flex-wrap:wrap;\n",
              "      gap: 12px;\n",
              "    }\n",
              "\n",
              "    .colab-df-convert {\n",
              "      background-color: #E8F0FE;\n",
              "      border: none;\n",
              "      border-radius: 50%;\n",
              "      cursor: pointer;\n",
              "      display: none;\n",
              "      fill: #1967D2;\n",
              "      height: 32px;\n",
              "      padding: 0 0 0 0;\n",
              "      width: 32px;\n",
              "    }\n",
              "\n",
              "    .colab-df-convert:hover {\n",
              "      background-color: #E2EBFA;\n",
              "      box-shadow: 0px 1px 2px rgba(60, 64, 67, 0.3), 0px 1px 3px 1px rgba(60, 64, 67, 0.15);\n",
              "      fill: #174EA6;\n",
              "    }\n",
              "\n",
              "    [theme=dark] .colab-df-convert {\n",
              "      background-color: #3B4455;\n",
              "      fill: #D2E3FC;\n",
              "    }\n",
              "\n",
              "    [theme=dark] .colab-df-convert:hover {\n",
              "      background-color: #434B5C;\n",
              "      box-shadow: 0px 1px 3px 1px rgba(0, 0, 0, 0.15);\n",
              "      filter: drop-shadow(0px 1px 2px rgba(0, 0, 0, 0.3));\n",
              "      fill: #FFFFFF;\n",
              "    }\n",
              "  </style>\n",
              "\n",
              "      <script>\n",
              "        const buttonEl =\n",
              "          document.querySelector('#df-8d6c981c-a269-414f-8257-3fe14f60b5c9 button.colab-df-convert');\n",
              "        buttonEl.style.display =\n",
              "          google.colab.kernel.accessAllowed ? 'block' : 'none';\n",
              "\n",
              "        async function convertToInteractive(key) {\n",
              "          const element = document.querySelector('#df-8d6c981c-a269-414f-8257-3fe14f60b5c9');\n",
              "          const dataTable =\n",
              "            await google.colab.kernel.invokeFunction('convertToInteractive',\n",
              "                                                     [key], {});\n",
              "          if (!dataTable) return;\n",
              "\n",
              "          const docLinkHtml = 'Like what you see? Visit the ' +\n",
              "            '<a target=\"_blank\" href=https://colab.research.google.com/notebooks/data_table.ipynb>data table notebook</a>'\n",
              "            + ' to learn more about interactive tables.';\n",
              "          element.innerHTML = '';\n",
              "          dataTable['output_type'] = 'display_data';\n",
              "          await google.colab.output.renderOutput(dataTable, element);\n",
              "          const docLink = document.createElement('div');\n",
              "          docLink.innerHTML = docLinkHtml;\n",
              "          element.appendChild(docLink);\n",
              "        }\n",
              "      </script>\n",
              "    </div>\n",
              "  </div>\n",
              "  "
            ]
          },
          "metadata": {},
          "execution_count": 29
        }
      ],
      "source": [
        "# Load data\n",
        "df = pd.read_csv(\"lung_cancer.csv\")\n",
        "df.head()"
      ]
    },
    {
      "cell_type": "markdown",
      "metadata": {
        "id": "bnYMvLTuUPQ2"
      },
      "source": [
        "# Exploratory data analysis"
      ]
    },
    {
      "cell_type": "code",
      "execution_count": 30,
      "metadata": {
        "id": "OpqYjbGDUPQ2",
        "colab": {
          "base_uri": "https://localhost:8080/"
        },
        "outputId": "805dcd19-cbe7-4aab-d92b-77df9215520a"
      },
      "outputs": [
        {
          "output_type": "execute_result",
          "data": {
            "text/plain": [
              "(310, 16)"
            ]
          },
          "metadata": {},
          "execution_count": 30
        }
      ],
      "source": [
        "df.shape"
      ]
    },
    {
      "cell_type": "markdown",
      "metadata": {
        "id": "Hqn-DIaPUPQ3"
      },
      "source": [
        "**Inference**\n",
        "- There are 309 data entries and 16 columns, 15 of which are features and 1 being the target column"
      ]
    },
    {
      "cell_type": "code",
      "execution_count": null,
      "metadata": {
        "id": "PTJmu8ntUPQ3"
      },
      "outputs": [],
      "source": [
        "df.info()"
      ]
    },
    {
      "cell_type": "code",
      "execution_count": null,
      "metadata": {
        "id": "UqUURtriUPQ3"
      },
      "outputs": [],
      "source": [
        "# show number of unique entries in each column\n",
        "df.nunique()"
      ]
    },
    {
      "cell_type": "code",
      "execution_count": null,
      "metadata": {
        "id": "2UzRoU9zUPQ4"
      },
      "outputs": [],
      "source": [
        "# data basic statistics\n",
        "df.describe()"
      ]
    },
    {
      "cell_type": "code",
      "execution_count": null,
      "metadata": {
        "id": "Ie5eKAaGUPQ4"
      },
      "outputs": [],
      "source": [
        "# missing values in decerding order\n",
        "df.isnull().sum()"
      ]
    },
    {
      "cell_type": "markdown",
      "metadata": {
        "id": "BaKNupwtUPQ5"
      },
      "source": [
        "**Inference**\n",
        "- There are no null values in the dataset, so there is no need for imputation"
      ]
    },
    {
      "cell_type": "markdown",
      "metadata": {
        "id": "g9yiwtoZUPQ5"
      },
      "source": [
        "## Getting the numerical and categorical features"
      ]
    },
    {
      "cell_type": "code",
      "execution_count": null,
      "metadata": {
        "id": "KjyAnZ1BUPQ5"
      },
      "outputs": [],
      "source": [
        "categorical = df.select_dtypes(include=['object'])\n",
        "numerical = df.select_dtypes(include=['float64'])\n",
        "\n",
        "print('Categorical features:\\n', categorical.columns.to_list())\n",
        "print('Numerical features:\\n', numerical.columns.to_list())"
      ]
    },
    {
      "cell_type": "markdown",
      "metadata": {
        "id": "K1OA_XbSUPQ5"
      },
      "source": [
        "# Visualization"
      ]
    },
    {
      "cell_type": "code",
      "execution_count": null,
      "metadata": {
        "id": "dcPKgU53UPQ5"
      },
      "outputs": [],
      "source": [
        "# Normal and Lung Cancer with target column\n",
        "plt.figure(figsize=(14,7))\n",
        "plt.pie(df['LungCancer'].value_counts(), labels=['Lung Cancer [1]', 'Normal [0]'], autopct='%1.1f%%')\n",
        "plt.show()"
      ]
    },
    {
      "cell_type": "code",
      "execution_count": null,
      "metadata": {
        "id": "iFeWjr_8UPQ6"
      },
      "outputs": [],
      "source": [
        "pd.options.display.float_format = \"{:,.3f}\".format\n",
        "plt.figure(figsize=(12,7))\n",
        "sns.set_context('notebook',font_scale = 0.72)\n",
        "sns.heatmap(df.corr(),annot=True, linewidths=1)\n",
        "plt.show()"
      ]
    },
    {
      "cell_type": "code",
      "execution_count": null,
      "metadata": {
        "id": "Jmv3qBLKUPQ6"
      },
      "outputs": [],
      "source": [
        "# ploting numerical features with target\n",
        "cols_to_plot = [\"Age\", \"Smoking\", \"ChronicDisease\", \"Wheezing\", \"BreathShortage\", \"YellowFingers\", \"ChestPain\"]\n",
        "for i in cols_to_plot:\n",
        "    plt.figure(figsize=(12,5))\n",
        "    sns.countplot(x=df[i], data=df, hue='LungCancer')\n",
        "    plt.legend(['Normal', 'Lung Cancer'])\n",
        "    # plt.title(i)\n",
        "    plt.tight_layout()"
      ]
    },
    {
      "cell_type": "markdown",
      "metadata": {
        "id": "97nSvU1OUPQ6"
      },
      "source": [
        "**Inference**\n",
        "-"
      ]
    },
    {
      "cell_type": "code",
      "execution_count": null,
      "metadata": {
        "id": "tCr7nXAlUPQ6"
      },
      "outputs": [],
      "source": [
        "# ploting categorical features with target\n",
        "for i in categorical:\n",
        "    plt.figure(figsize=(10,5))\n",
        "    # sns.set_context('notebook',font_scale = 0.72)\n",
        "    sns.countplot(x=i, data=df, hue='LungCancer', edgecolor='black')\n",
        "    plt.legend(['Normal', 'Lung Cancer'])\n",
        "    # plt.title(i)\n",
        "    plt.show()"
      ]
    },
    {
      "cell_type": "markdown",
      "metadata": {
        "id": "zz5-5M2UUPQ6"
      },
      "source": [
        "**Inference**\n",
        "-"
      ]
    },
    {
      "cell_type": "code",
      "execution_count": 40,
      "metadata": {
        "id": "-uEHciQyUPQ7"
      },
      "outputs": [],
      "source": [
        "# Pairplot using target LungCancer Column\n",
        "# sns.pairplot(df, hue='LungCancer')\n",
        "# plt.show()"
      ]
    },
    {
      "cell_type": "code",
      "execution_count": null,
      "metadata": {
        "id": "L_UV3qy-UPQ7"
      },
      "outputs": [],
      "source": [
        "# distribution plot of Age for LungCancer\n",
        "sns.distplot(df['Age'][df['LungCancer'] == 1], kde=True, color='red', label='Lung Cancer')\n",
        "sns.distplot(df['Age'][df['LungCancer'] == 0], kde=True, color='green', label='Normal')\n",
        "plt.legend()\n",
        "plt.show()"
      ]
    },
    {
      "cell_type": "code",
      "execution_count": null,
      "metadata": {
        "id": "UG2Acz2ZUPQ7"
      },
      "outputs": [],
      "source": [
        "Young = df[(df.Age>=29)&(df.Age<40)]\n",
        "Middle = df[(df.Age>=40)&(df.Age<55)]\n",
        "Elder = df[(df.Age>55)]\n",
        "\n",
        "plt.figure(figsize=(10,8))\n",
        "sns.set_context('notebook',font_scale = 1.5)\n",
        "sns.barplot(x=['Young ages','Middle ages','Elderly ages'],y=[len(Young),len(Middle),len(Elder)])\n",
        "plt.show()"
      ]
    },
    {
      "cell_type": "code",
      "execution_count": null,
      "metadata": {
        "id": "sZx7Ew28UPQ7"
      },
      "outputs": [],
      "source": [
        "colors = ['blue','green','yellow']\n",
        "explode = [0,0,0.1]\n",
        "plt.figure(figsize=(10,10))\n",
        "sns.set_context('notebook',font_scale = 1.0)\n",
        "plt.pie([len(Young),len(Middle),len(Elder)],labels=['Young ages','Middle ages','Elderly ages'],explode=explode,colors=colors, autopct='%1.1f%%')\n",
        "plt.tight_layout()"
      ]
    },
    {
      "cell_type": "markdown",
      "metadata": {
        "id": "olcgPFoBUPQ8"
      },
      "source": [
        "# Data Preprocessing"
      ]
    },
    {
      "cell_type": "code",
      "execution_count": null,
      "metadata": {
        "id": "EHNMYD5PUPQ8"
      },
      "outputs": [],
      "source": [
        "# select numerical features and encoding it\n",
        "from sklearn.preprocessing import LabelEncoder\n",
        "\n",
        "string_col = df.select_dtypes(include=\"object\").columns\n",
        "\n",
        "df.head()\n",
        "# As we will be using both types of approches for demonstration lets do First Label Ecoding\n",
        "# which will be used with Tree Based Algorithms\n",
        "df_tree = df.apply(LabelEncoder().fit_transform)\n",
        "df_tree.head()"
      ]
    },
    {
      "cell_type": "markdown",
      "metadata": {
        "id": "E7XrlVrLUPQ8"
      },
      "source": [
        "This can be used right away in a lot of tree-based models:\n",
        "    \n",
        "- Decision trees\n",
        "- Random forest\n",
        "- Extra Trees\n",
        "- Or any kind of boosted trees model\n",
        "    - XGBoost\n",
        "    - GBM\n",
        "    - LightGBM\n",
        "    \n",
        "This type of encoding can't be used in linear models, support vector machines, or neural networks because they expect data to be normalized (or standardized). We can divide the data into two groups for these kinds of models. As\n",
        "shown below:"
      ]
    },
    {
      "cell_type": "code",
      "execution_count": null,
      "metadata": {
        "id": "jxBEHxt4UPQ8"
      },
      "outputs": [],
      "source": [
        "## Creating one hot encoded features for working with non tree based algorithms\n",
        "from sklearn.preprocessing import OneHotEncoder\n",
        "from sklearn.compose import make_column_transformer\n",
        "\n",
        "\n",
        "target=\"LungCancer\"\n",
        "df_nontree = df.drop(\"LungCancer\",axis=1)\n",
        "\n",
        "ohe = OneHotEncoder(handle_unknown='ignore')\n",
        "\n",
        "transformer = make_column_transformer(\n",
        "    (OneHotEncoder(), string_col),\n",
        "    remainder='passthrough',\n",
        "    verbose_feature_names_out=False\n",
        ")\n",
        "\n",
        "transformed = transformer.fit_transform(df_nontree)\n",
        "df_nontree = pd.DataFrame(\n",
        "    transformed,\n",
        "    columns=transformer.get_feature_names_out()\n",
        ")\n",
        "\n",
        "df_nontree.head()"
      ]
    },
    {
      "cell_type": "code",
      "execution_count": null,
      "metadata": {
        "id": "OqZSShJzUPQ8"
      },
      "outputs": [],
      "source": [
        "# Getting the target column at the end\n",
        "df_nontree=pd.concat([df_nontree,df[target]],axis=1)\n",
        "df_nontree.head()"
      ]
    },
    {
      "cell_type": "markdown",
      "metadata": {
        "id": "-wDhKBhjUPQ9"
      },
      "source": [
        "# Training"
      ]
    },
    {
      "cell_type": "markdown",
      "metadata": {
        "id": "-dNn9U3GUPQ9"
      },
      "source": [
        "## Logistic Regression"
      ]
    },
    {
      "cell_type": "code",
      "execution_count": 47,
      "metadata": {
        "id": "P3n2iW9FUPQ9"
      },
      "outputs": [],
      "source": [
        "feature_col_nontree=df_nontree.columns.to_list()\n",
        "feature_col_nontree.remove(target)"
      ]
    },
    {
      "cell_type": "code",
      "execution_count": null,
      "metadata": {
        "id": "h-7hl2FSUPQ9"
      },
      "outputs": [],
      "source": [
        "from sklearn import model_selection\n",
        "from sklearn.linear_model import LogisticRegression\n",
        "from sklearn.metrics import confusion_matrix,classification_report,accuracy_score,roc_auc_score\n",
        "from sklearn.preprocessing import RobustScaler,MinMaxScaler,StandardScaler\n",
        "acc_log=[]\n",
        "\n",
        "kf=model_selection.StratifiedKFold(n_splits=5)\n",
        "for fold , (trn_,val_) in enumerate(kf.split(X=df_nontree, y=y)):\n",
        "\n",
        "    X_train=df_nontree.loc[trn_,feature_col_nontree]\n",
        "    y_train=df_nontree.loc[trn_,target]\n",
        "\n",
        "    X_valid=df_nontree.loc[val_,feature_col_nontree]\n",
        "    y_valid=df_nontree.loc[val_,target]\n",
        "\n",
        "    #print(pd.DataFrame(X_valid).head())\n",
        "    ro_scaler=MinMaxScaler()\n",
        "    X_train=ro_scaler.fit_transform(X_train)\n",
        "    X_valid=ro_scaler.transform(X_valid)\n",
        "\n",
        "\n",
        "    clf=LogisticRegression()\n",
        "    clf.fit(X_train,y_train)\n",
        "    y_pred=clf.predict(X_valid)\n",
        "    print(f\"The fold is : {fold} : \")\n",
        "    print(classification_report(y_valid,y_pred))\n",
        "    acc=roc_auc_score(y_valid,y_pred)\n",
        "    acc_log.append(acc)\n",
        "    print(f\"The accuracy for Fold {fold+1} : {acc}\")\n",
        "    pass\n"
      ]
    },
    {
      "cell_type": "markdown",
      "metadata": {
        "id": "OQrYqeBOUPQ9"
      },
      "source": [
        "## Naive bayes"
      ]
    },
    {
      "cell_type": "code",
      "execution_count": null,
      "metadata": {
        "id": "vKWIchbbUPQ9"
      },
      "outputs": [],
      "source": [
        "from sklearn.naive_bayes import GaussianNB\n",
        "acc_Gauss=[]\n",
        "kf=model_selection.StratifiedKFold(n_splits=5)\n",
        "for fold , (trn_,val_) in enumerate(kf.split(X=df_nontree,y=y)):\n",
        "\n",
        "    X_train=df_nontree.loc[trn_,feature_col_nontree]\n",
        "    y_train=df_nontree.loc[trn_,target]\n",
        "\n",
        "    X_valid=df_nontree.loc[val_,feature_col_nontree]\n",
        "    y_valid=df_nontree.loc[val_,target]\n",
        "\n",
        "    ro_scaler=MinMaxScaler()\n",
        "    X_train=ro_scaler.fit_transform(X_train)\n",
        "    X_valid=ro_scaler.transform(X_valid)\n",
        "\n",
        "    clf=GaussianNB()\n",
        "    clf.fit(X_train,y_train)\n",
        "    y_pred=clf.predict(X_valid)\n",
        "    print(f\"The fold is : {fold} : \")\n",
        "    print(classification_report(y_valid,y_pred))\n",
        "    acc=roc_auc_score(y_valid,y_pred)\n",
        "    acc_Gauss.append(acc)\n",
        "    print(f\"The accuracy for {fold+1} : {acc}\")\n",
        "\n",
        "    pass"
      ]
    },
    {
      "cell_type": "markdown",
      "metadata": {
        "id": "ImYQYnDwUPQ-"
      },
      "source": [
        "## KNN"
      ]
    },
    {
      "cell_type": "code",
      "execution_count": null,
      "metadata": {
        "id": "klV3jhh2UPQ-"
      },
      "outputs": [],
      "source": [
        "from sklearn.neighbors import KNeighborsClassifier\n",
        "acc_KNN=[]\n",
        "kf=model_selection.StratifiedKFold(n_splits=5)\n",
        "for fold , (trn_,val_) in enumerate(kf.split(X=df_nontree,y=y)):\n",
        "\n",
        "    X_train=df_nontree.loc[trn_,feature_col_nontree]\n",
        "    y_train=df_nontree.loc[trn_,target]\n",
        "\n",
        "    X_valid=df_nontree.loc[val_,feature_col_nontree]\n",
        "    y_valid=df_nontree.loc[val_,target]\n",
        "\n",
        "    ro_scaler=MinMaxScaler()\n",
        "    X_train=ro_scaler.fit_transform(X_train)\n",
        "    X_valid=ro_scaler.transform(X_valid)\n",
        "\n",
        "    clf=KNeighborsClassifier(n_neighbors=15)\n",
        "    clf.fit(X_train,y_train)\n",
        "    y_pred=clf.predict(X_valid)\n",
        "    print(f\"The fold is : {fold} : \")\n",
        "    print(classification_report(y_valid,y_pred))\n",
        "    acc=roc_auc_score(y_valid,y_pred)\n",
        "    acc_KNN.append(acc)\n",
        "    print(f\"The accuracy for {fold+1} : {acc}\")\n",
        "\n",
        "    pass\n"
      ]
    },
    {
      "cell_type": "code",
      "execution_count": null,
      "metadata": {
        "id": "CUGGmNgSUPQ-"
      },
      "outputs": [],
      "source": [
        "acc_KNN"
      ]
    },
    {
      "cell_type": "markdown",
      "metadata": {
        "id": "GvHLysH6UPRD"
      },
      "source": [
        "## Decision Tree"
      ]
    },
    {
      "cell_type": "code",
      "execution_count": null,
      "metadata": {
        "id": "oQkoMyWxUPRE"
      },
      "outputs": [],
      "source": [
        "feature_col_tree=df_tree.columns.to_list()\n",
        "feature_col_tree.remove(target)"
      ]
    },
    {
      "cell_type": "code",
      "execution_count": null,
      "metadata": {
        "id": "dWfBqY5LUPRE"
      },
      "outputs": [],
      "source": [
        "from sklearn.tree import DecisionTreeClassifier\n",
        "acc_Dtree=[]\n",
        "kf=model_selection.StratifiedKFold(n_splits=5)\n",
        "for fold , (trn_,val_) in enumerate(kf.split(X=df_tree,y=y)):\n",
        "\n",
        "    X_train=df_tree.loc[trn_,feature_col_tree]\n",
        "    y_train=df_tree.loc[trn_,target]\n",
        "\n",
        "    X_valid=df_tree.loc[val_,feature_col_tree]\n",
        "    y_valid=df_tree.loc[val_,target]\n",
        "\n",
        "    clf=DecisionTreeClassifier(criterion=\"entropy\")\n",
        "    clf.fit(X_train,y_train)\n",
        "    y_pred=clf.predict(X_valid)\n",
        "    print(f\"The fold is : {fold} : \")\n",
        "    print(classification_report(y_valid,y_pred))\n",
        "    acc=roc_auc_score(y_valid,y_pred)\n",
        "    acc_Dtree.append(acc)\n",
        "    print(f\"The accuracy for {fold+1} : {acc}\")\n"
      ]
    },
    {
      "cell_type": "code",
      "execution_count": null,
      "metadata": {
        "id": "FIiYHs40UPRF"
      },
      "outputs": [],
      "source": [
        "import graphviz\n",
        "from sklearn import tree\n",
        "# DOT data\n",
        "dot_data = tree.export_graphviz(clf, out_file=None,\n",
        "                                feature_names=feature_col_tree,\n",
        "                                class_names=target,\n",
        "                                filled=True)\n",
        "\n",
        "# Draw graph\n",
        "graph = graphviz.Source(dot_data, format=\"png\")\n",
        "graph"
      ]
    }
  ],
  "metadata": {
    "kernelspec": {
      "display_name": "Python 3 (ipykernel)",
      "language": "python",
      "name": "python3"
    },
    "language_info": {
      "codemirror_mode": {
        "name": "ipython",
        "version": 3
      },
      "file_extension": ".py",
      "mimetype": "text/x-python",
      "name": "python",
      "nbconvert_exporter": "python",
      "pygments_lexer": "ipython3",
      "version": "3.10.5"
    },
    "colab": {
      "provenance": []
    }
  },
  "nbformat": 4,
  "nbformat_minor": 0
}